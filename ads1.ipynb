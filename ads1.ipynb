{
  "nbformat": 4,
  "nbformat_minor": 0,
  "metadata": {
    "colab": {
      "provenance": [],
      "authorship_tag": "ABX9TyO/898WUs8USCy7Eo6WmELs",
      "include_colab_link": true
    },
    "kernelspec": {
      "name": "python3",
      "display_name": "Python 3"
    },
    "language_info": {
      "name": "python"
    }
  },
  "cells": [
    {
      "cell_type": "markdown",
      "metadata": {
        "id": "view-in-github",
        "colab_type": "text"
      },
      "source": [
        "<a href=\"https://colab.research.google.com/github/RAJ-15012006/Sentiment-analysis-project/blob/main/ads1.ipynb\" target=\"_parent\"><img src=\"https://colab.research.google.com/assets/colab-badge.svg\" alt=\"Open In Colab\"/></a>"
      ]
    },
    {
      "cell_type": "code",
      "execution_count": 7,
      "metadata": {
        "colab": {
          "base_uri": "https://localhost:8080/"
        },
        "id": "ku9vnx5A8VBN",
        "outputId": "7a9ba6f8-a38a-44ac-b3fa-32c0292a5b7b"
      },
      "outputs": [
        {
          "output_type": "stream",
          "name": "stdout",
          "text": [
            "Requirement already satisfied: textblob in /usr/local/lib/python3.12/dist-packages (0.19.0)\n",
            "Requirement already satisfied: nltk>=3.9 in /usr/local/lib/python3.12/dist-packages (from textblob) (3.9.1)\n",
            "Requirement already satisfied: click in /usr/local/lib/python3.12/dist-packages (from nltk>=3.9->textblob) (8.2.1)\n",
            "Requirement already satisfied: joblib in /usr/local/lib/python3.12/dist-packages (from nltk>=3.9->textblob) (1.5.1)\n",
            "Requirement already satisfied: regex>=2021.8.3 in /usr/local/lib/python3.12/dist-packages (from nltk>=3.9->textblob) (2024.11.6)\n",
            "Requirement already satisfied: tqdm in /usr/local/lib/python3.12/dist-packages (from nltk>=3.9->textblob) (4.67.1)\n"
          ]
        }
      ],
      "source": [
        "pip install textblob"
      ]
    },
    {
      "cell_type": "code",
      "source": [
        "from textblob import TextBlob\n",
        "# text -> it shall rain today\n",
        "text = input(\"Enter a sentence for sentiment analysis : - \")\n",
        "print(\"analysis done\")\n",
        "tb_analyse = TextBlob(text) # it will give analysis,creating a TextBlob object from the string stored in text.\n",
        "print(tb_analyse.sentiment) # print the emotional tone\n",
        "print('Polarity of the statement : ', tb_analyse.sentiment.polarity) # weather person is happy or not\n",
        "print('Subjective of the statement', tb_analyse.sentiment.subjectivity) # practical things"
      ],
      "metadata": {
        "colab": {
          "base_uri": "https://localhost:8080/"
        },
        "id": "la2c71-Y8d5P",
        "outputId": "14b3c9d9-a7a6-42ac-a9b5-909fc7f08e08"
      },
      "execution_count": 8,
      "outputs": [
        {
          "output_type": "stream",
          "name": "stdout",
          "text": [
            "Enter a sentence for sentiment analysis : - hi\n",
            "analysis done\n",
            "Sentiment(polarity=0.0, subjectivity=0.0)\n",
            "Polarity of the statement :  0.0\n",
            "Subjective of the statement 0.0\n"
          ]
        }
      ]
    },
    {
      "cell_type": "code",
      "source": [
        "# lexix\n",
        "tb = TextBlob(\"I love Python, but bugs are terrible.\")\n",
        "print(tb.sentiment)\n",
        "# subjective -- opinion based, person's opinion\n",
        "# polarity -- feelings\n",
        "# Lexicon values = predefined sentiment scores for words (positive/negative strength + subjectivity), which are used by tools like TextBlob"
      ],
      "metadata": {
        "colab": {
          "base_uri": "https://localhost:8080/"
        },
        "id": "TszIDAHP_W87",
        "outputId": "37e65058-397c-46c4-b12c-27ccae3984f2"
      },
      "execution_count": 11,
      "outputs": [
        {
          "output_type": "stream",
          "name": "stdout",
          "text": [
            "Sentiment(polarity=-0.25, subjectivity=0.8)\n"
          ]
        }
      ]
    },
    {
      "cell_type": "code",
      "source": [
        "import pickle\n",
        "with open('/content/stored_data (3).pkl', 'rb') as f:\n",
        "  reviews = pickle.load(f)\n",
        "  reviews"
      ],
      "metadata": {
        "id": "8TCriD4OMghE"
      },
      "execution_count": 14,
      "outputs": []
    },
    {
      "cell_type": "code",
      "source": [
        "reviews.keys() # dict {keys : values}"
      ],
      "metadata": {
        "colab": {
          "base_uri": "https://localhost:8080/"
        },
        "id": "LtgGzJ1yQ08K",
        "outputId": "3fcdcdda-0961-4939-c669-3d018d3564c1"
      },
      "execution_count": 16,
      "outputs": [
        {
          "output_type": "execute_result",
          "data": {
            "text/plain": [
              "dict_keys(['Endgame', 'Forest_gump', 'Johnwick', 'Joker', 'Morbius', 'Pulpfiction', 'Spiderman', 'Avengers', 'Darkknight', 'Ragnarok'])"
            ]
          },
          "metadata": {},
          "execution_count": 16
        }
      ]
    },
    {
      "cell_type": "code",
      "source": [
        "# to clear output\n",
        "from IPython.display import clear_output\n",
        "import random # in above it will not show analysis done"
      ],
      "metadata": {
        "id": "NcPjF98HnqGk"
      },
      "execution_count": null,
      "outputs": []
    },
    {
      "cell_type": "code",
      "source": [
        "print(reviews.keys())\n",
        "movie_name = input"
      ],
      "metadata": {
        "colab": {
          "base_uri": "https://localhost:8080/"
        },
        "id": "LNC2bcQJodoL",
        "outputId": "88b6feb4-6e87-4d80-87d2-9149f5f21781"
      },
      "execution_count": null,
      "outputs": [
        {
          "output_type": "stream",
          "name": "stdout",
          "text": [
            "dict_keys(['Endgame', 'Forest_gump', 'Johnwick', 'Joker', 'Morbius', 'Pulpfiction', 'Spiderman', 'Avengers', 'Darkknight', 'Ragnarok'])\n"
          ]
        }
      ]
    },
    {
      "cell_type": "code",
      "source": [
        "print(reviews.keys())\n",
        "movie_name = input('Enter the movie you want to analyse : - ') # Asks the user to enter the name of a movie,The input is stored in the variable movie_name.\n",
        "if movie_name in reviews.keys(): # to check movie is there in reviews,keys\n",
        "  clear_output() # This clears the output screen\n",
        "  num = len(reviews[movie_name]) # Assign num the number of reviews\n",
        "  print(f'The movie has {num} reviews')\n",
        "  pos,neg,neu = 0,0,0\n",
        "  for i in reviews[movie_name]:\n",
        "    tb_analyse= TextBlob(i[0])\n",
        "    if tb_analyse.sentiment.polarity > 0.05:\n",
        "      pos +=1\n",
        "    elif tb_analyse.sentiment.polarity < -0.05:\n",
        "        neg +=1\n",
        "    else:\n",
        "        neu +=1\n",
        "  print(f'Positive reviews percentage: {pos*100/num:.2f}%, Negative Reviews Percentage: {neg*100/num:.2f}%, Neutral Reviews Percentage: {neu*100/num:.2f}%') # Corrected f-string and added formatting\n",
        "else:\n",
        "  print('Movie not in list')"
      ],
      "metadata": {
        "colab": {
          "base_uri": "https://localhost:8080/"
        },
        "id": "zmbz75AbpPyN",
        "outputId": "8c69e86b-e8d1-4cfb-d0be-afb7bef16ddf"
      },
      "execution_count": null,
      "outputs": [
        {
          "output_type": "stream",
          "name": "stdout",
          "text": [
            "The movie has 11357 reviews\n",
            "Positive reviews percentage: 73.92%, Negative Reviews Percentage: 11.21%, Neutral Reviews Percentage: 14.87%\n"
          ]
        }
      ]
    },
    {
      "cell_type": "code",
      "source": [],
      "metadata": {
        "id": "LfwqSwCE_g6Z"
      },
      "execution_count": null,
      "outputs": []
    }
  ]
}