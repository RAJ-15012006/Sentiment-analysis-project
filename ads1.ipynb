{
  "nbformat": 4,
  "nbformat_minor": 0,
  "metadata": {
    "colab": {
      "provenance": [],
      "authorship_tag": "ABX9TyPHb6X/DpGpfwEjAP54im3e",
      "include_colab_link": true
    },
    "kernelspec": {
      "name": "python3",
      "display_name": "Python 3"
    },
    "language_info": {
      "name": "python"
    }
  },
  "cells": [
    {
      "cell_type": "markdown",
      "metadata": {
        "id": "view-in-github",
        "colab_type": "text"
      },
      "source": [
        "<a href=\"https://colab.research.google.com/github/RAJ-15012006/Sentiment-analysis-project/blob/main/ads1.ipynb\" target=\"_parent\"><img src=\"https://colab.research.google.com/assets/colab-badge.svg\" alt=\"Open In Colab\"/></a>"
      ]
    },
    {
      "cell_type": "code",
      "execution_count": null,
      "metadata": {
        "colab": {
          "base_uri": "https://localhost:8080/"
        },
        "id": "ku9vnx5A8VBN",
        "outputId": "2b786f50-d5a1-4606-e23f-05402c35ab7b"
      },
      "outputs": [
        {
          "output_type": "stream",
          "name": "stdout",
          "text": [
            "Requirement already satisfied: textblob in /usr/local/lib/python3.12/dist-packages (0.19.0)\n",
            "Requirement already satisfied: nltk>=3.9 in /usr/local/lib/python3.12/dist-packages (from textblob) (3.9.1)\n",
            "Requirement already satisfied: click in /usr/local/lib/python3.12/dist-packages (from nltk>=3.9->textblob) (8.2.1)\n",
            "Requirement already satisfied: joblib in /usr/local/lib/python3.12/dist-packages (from nltk>=3.9->textblob) (1.5.1)\n",
            "Requirement already satisfied: regex>=2021.8.3 in /usr/local/lib/python3.12/dist-packages (from nltk>=3.9->textblob) (2024.11.6)\n",
            "Requirement already satisfied: tqdm in /usr/local/lib/python3.12/dist-packages (from nltk>=3.9->textblob) (4.67.1)\n"
          ]
        }
      ],
      "source": [
        "pip install textblob"
      ]
    },
    {
      "cell_type": "code",
      "source": [
        "from textblob import TextBlob\n",
        "# text -> it shall rain today\n",
        "text = input(\"Enter a sentence for sentiment analysis : - \")\n",
        "print(\"analysis done\")\n",
        "tb_analyse = TextBlob(text) # creates a special TextBlob object that can analyze and process the text, Whatever TextBlob(text) returns (a TextBlob object) is stored inside the variable tb_analyse.\n",
        "print(tb_analyse.sentiment) # print the emotional tone\n",
        "print('Polarity of the statement : ', tb_analyse.sentiment.polarity) # weather person is happy or not\n",
        "print('Subjective of the statement', tb_analyse.sentiment.subjectivity) # practical things"
      ],
      "metadata": {
        "colab": {
          "base_uri": "https://localhost:8080/"
        },
        "id": "la2c71-Y8d5P",
        "outputId": "3da9cff8-94eb-4f17-f31e-62c439f7bb1c"
      },
      "execution_count": 50,
      "outputs": [
        {
          "output_type": "stream",
          "name": "stdout",
          "text": [
            "Enter a sentence for sentiment analysis : - hi\n",
            "analysis done\n",
            "Sentiment(polarity=0.0, subjectivity=0.0)\n",
            "Polarity of the statement :  0.0\n",
            "Subjective of the statement 0.0\n"
          ]
        }
      ]
    },
    {
      "cell_type": "code",
      "source": [
        "# lexix\n",
        "tb = TextBlob(\"I love Python, but bugs are terrible.\")\n",
        "print(tb.sentiment)\n",
        "# subjective -- opinion based, person's opinion\n",
        "# polarity -- feelings\n",
        "# Lexicon values = predefined sentiment scores for words (positive/negative strength + subjectivity), which are used by tools like TextBlob"
      ],
      "metadata": {
        "colab": {
          "base_uri": "https://localhost:8080/"
        },
        "id": "TszIDAHP_W87",
        "outputId": "49b1247f-c8f6-4655-d82e-25c665f50d43"
      },
      "execution_count": null,
      "outputs": [
        {
          "output_type": "stream",
          "name": "stdout",
          "text": [
            "Sentiment(polarity=-0.25, subjectivity=0.8)\n"
          ]
        }
      ]
    },
    {
      "cell_type": "code",
      "source": [
        "import pickle\n",
        "\n",
        "with open(\"/content/stored_data (5).pkl\", \"rb\") as f:\n",
        "    reviews = pickle.load(f)\n"
      ],
      "metadata": {
        "id": "rSt25zhF0gyu"
      },
      "execution_count": null,
      "outputs": []
    },
    {
      "cell_type": "code",
      "source": [
        "import os\n",
        "print(os.path.getsize('/content/stored_data (5).pkl'))\n"
      ],
      "metadata": {
        "colab": {
          "base_uri": "https://localhost:8080/"
        },
        "id": "Od8-vP5vzazc",
        "outputId": "0edcaffd-41e2-49d6-848a-714c0bcc82fd"
      },
      "execution_count": null,
      "outputs": [
        {
          "output_type": "stream",
          "name": "stdout",
          "text": [
            "38120686\n"
          ]
        }
      ]
    },
    {
      "cell_type": "code",
      "source": [
        "reviews.keys() # dict {keys : values}"
      ],
      "metadata": {
        "colab": {
          "base_uri": "https://localhost:8080/"
        },
        "id": "LtgGzJ1yQ08K",
        "outputId": "d846a2e9-938c-43bb-c4aa-809aabffb8ce"
      },
      "execution_count": null,
      "outputs": [
        {
          "output_type": "execute_result",
          "data": {
            "text/plain": [
              "dict_keys(['Endgame', 'Forest_gump', 'Johnwick', 'Joker', 'Morbius', 'Pulpfiction', 'Spiderman', 'Avengers', 'Darkknight', 'Ragnarok'])"
            ]
          },
          "metadata": {},
          "execution_count": 43
        }
      ]
    },
    {
      "cell_type": "code",
      "source": [
        "# to clear output\n",
        "from IPython.display import clear_output\n",
        "import random # in above it will not show analysis done"
      ],
      "metadata": {
        "id": "NcPjF98HnqGk"
      },
      "execution_count": null,
      "outputs": []
    },
    {
      "cell_type": "code",
      "source": [
        "print(reviews.keys())\n",
        "movie_name = input"
      ],
      "metadata": {
        "id": "LNC2bcQJodoL",
        "colab": {
          "base_uri": "https://localhost:8080/"
        },
        "outputId": "eb491c52-c5be-4b08-fa9c-262a28daaf9c"
      },
      "execution_count": null,
      "outputs": [
        {
          "output_type": "stream",
          "name": "stdout",
          "text": [
            "dict_keys(['Endgame', 'Forest_gump', 'Johnwick', 'Joker', 'Morbius', 'Pulpfiction', 'Spiderman', 'Avengers', 'Darkknight', 'Ragnarok'])\n"
          ]
        }
      ]
    },
    {
      "cell_type": "code",
      "source": [
        "print(reviews.keys())\n",
        "movie_name = input('Enter the movie you want to analyse : - ') # Asks the user to enter the name of a movie,The input is stored in the variable movie_name.\n",
        "if movie_name in reviews.keys(): # to check movie is there in reviews,keys\n",
        "  clear_output() # This clears the output screen to avoid clutter\n",
        "  num = len(reviews[movie_name]) # Assign num the number of reviews, count reviews\n",
        "  print(f'The movie has {num} reviews') # This prints the total number of reviews available for the movie.\n",
        "  pos,neg,neu = 0,0,0 # initial count\n",
        "  for i in reviews[movie_name]: # loop for the movie\n",
        "    tb_analyse= TextBlob(i[0]) # means we are taking the review text, creates a TextBlob object which can analyze the text for sentiment.\n",
        "    if tb_analyse.sentiment.polarity > 0.05:\n",
        "      pos +=1\n",
        "    elif tb_analyse.sentiment.polarity < -0.05:\n",
        "        neg +=1\n",
        "    else:\n",
        "        neu +=1\n",
        "  print(f'Positive reviews percentage: {pos*100/num:.2f}%, Negative Reviews Percentage: {neg*100/num:.2f}%, Neutral Reviews Percentage: {neu*100/num:.2f}%') # Corrected f-string and added formatting\n",
        "else:\n",
        "  print('Movie not in list')"
      ],
      "metadata": {
        "id": "zmbz75AbpPyN",
        "colab": {
          "base_uri": "https://localhost:8080/"
        },
        "outputId": "a8c1e302-7ac6-4e65-c611-5e8643644733"
      },
      "execution_count": null,
      "outputs": [
        {
          "output_type": "stream",
          "name": "stdout",
          "text": [
            "The movie has 11357 reviews\n",
            "Positive reviews percentage: 73.92%, Negative Reviews Percentage: 11.21%, Neutral Reviews Percentage: 14.87%\n"
          ]
        }
      ]
    },
    {
      "cell_type": "code",
      "source": [
        "tb_analyse.sentiment.polarity"
      ],
      "metadata": {
        "id": "LfwqSwCE_g6Z",
        "colab": {
          "base_uri": "https://localhost:8080/"
        },
        "outputId": "7709f788-f4d3-4614-b2a0-fcaa4a127dda"
      },
      "execution_count": null,
      "outputs": [
        {
          "output_type": "execute_result",
          "data": {
            "text/plain": [
              "0.4976190476190477"
            ]
          },
          "metadata": {},
          "execution_count": 47
        }
      ]
    },
    {
      "cell_type": "code",
      "source": [
        "tb_analyse.sentiment.subjectivity"
      ],
      "metadata": {
        "id": "v_QdvjnYu-BP",
        "colab": {
          "base_uri": "https://localhost:8080/"
        },
        "outputId": "8f0e1ed3-3963-48bf-c0a0-b47dda8b7a06"
      },
      "execution_count": null,
      "outputs": [
        {
          "output_type": "execute_result",
          "data": {
            "text/plain": [
              "0.6214285714285713"
            ]
          },
          "metadata": {},
          "execution_count": 49
        }
      ]
    }
  ]
}